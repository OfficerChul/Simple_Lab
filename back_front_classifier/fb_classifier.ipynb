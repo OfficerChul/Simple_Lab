{
 "cells": [
  {
   "cell_type": "code",
   "execution_count": 1,
   "id": "671dde78-892b-4d94-9cbd-727b68769203",
   "metadata": {},
   "outputs": [
    {
     "name": "stdout",
     "output_type": "stream",
     "text": [
      "Python version\n",
      "3.10.9 | packaged by Anaconda, Inc. | (main, Mar  8 2023, 10:42:25) [MSC v.1916 64 bit (AMD64)]\n",
      "Version info.\n",
      "sys.version_info(major=3, minor=10, micro=9, releaselevel='final', serial=0)\n",
      "Current Path: c:\\Users\\simplelab-kyochul\\Documents\\Simple_Lab\\back_front_classifier\n"
     ]
    }
   ],
   "source": [
    "import sys\n",
    "import os\n",
    "from retinaface import RetinaFace\n",
    "import cv2\n",
    "\n",
    "print(\"Python version\")\n",
    "print(sys.version)\n",
    "print(\"Version info.\")\n",
    "print(sys.version_info)\n",
    "print(\"Current Path: \" + os.getcwd())"
   ]
  },
  {
   "cell_type": "code",
   "execution_count": 2,
   "id": "62bef738-e50c-44a7-8038-26e770c0e22c",
   "metadata": {},
   "outputs": [
    {
     "name": "stdout",
     "output_type": "stream",
     "text": [
      "GPU is NOT available\n"
     ]
    }
   ],
   "source": [
    "import tensorflow as tf\n",
    "\n",
    "if tf.test.is_gpu_available():\n",
    "    print(\"GPU is available\")\n",
    "else:\n",
    "    print(\"GPU is NOT available\")"
   ]
  },
  {
   "cell_type": "code",
   "execution_count": 4,
   "id": "a8affa86-3a02-4810-b5bd-e5530ac7ba0a",
   "metadata": {},
   "outputs": [
    {
     "name": "stdout",
     "output_type": "stream",
     "text": [
      "\n",
      "2th image: (array([], shape=(0, 5), dtype=float64), array([], shape=(0, 5, 2), dtype=float64))\n",
      "\n",
      "3th image: {'face_1': {'score': 0.9994255304336548, 'facial_area': [734, 177, 827, 278], 'landmarks': {'right_eye': [765.96136, 218.37329], 'left_eye': [805.85803, 226.90715], 'nose': [781.75995, 247.61446], 'mouth_right': [759.7005, 252.14607], 'mouth_left': [789.93634, 259.15524]}}}\n",
      "\n",
      "4th image: (array([], shape=(0, 5), dtype=float64), array([], shape=(0, 5, 2), dtype=float64))\n",
      "\n",
      "5th image: {'face_1': {'score': 0.9995377659797668, 'facial_area': [623, 133, 716, 238], 'landmarks': {'right_eye': [650.3352, 183.90204], 'left_eye': [693.8385, 184.68657], 'nose': [672.54144, 210.88965], 'mouth_right': [652.58734, 214.14919], 'mouth_left': [688.0053, 215.06595]}}}\n",
      "\n"
     ]
    }
   ],
   "source": [
    "for idx, img in enumerate(os.listdir(os.path.join(os.getcwd(), \"example_pics\"))):\n",
    "    img_path = os.path.join(os.getcwd(), f'example_pics\\{img}')\n",
    "    if img_path[img_path.rfind('.')+1:] == 'png':\n",
    "        obj = RetinaFace.detect_faces(img_path)\n",
    "        print(f'{idx + 1}th image: {obj}')\n",
    "    print()"
   ]
  },
  {
   "cell_type": "code",
   "execution_count": 26,
   "id": "cf22dfb2-39b5-4873-b697-9b8ec6c75401",
   "metadata": {},
   "outputs": [],
   "source": [
    "cap = cv2.VideoCapture(vid_path)"
   ]
  },
  {
   "cell_type": "code",
   "execution_count": null,
   "id": "2a4052db-7871-48d2-a7e0-f39377415c1b",
   "metadata": {},
   "outputs": [],
   "source": [
    "image_flag = 0\n",
    "while True:\n",
    "    ret, frame = cap.read()\n",
    "    if not ret:\n",
    "        break\n",
    "    \n",
    "    faces = RetinaFace.detect_faces(frame)\n",
    "    if \n",
    "    "
   ]
  }
 ],
 "metadata": {
  "kernelspec": {
   "display_name": "Python 3 (ipykernel)",
   "language": "python",
   "name": "python3"
  },
  "language_info": {
   "codemirror_mode": {
    "name": "ipython",
    "version": 3
   },
   "file_extension": ".py",
   "mimetype": "text/x-python",
   "name": "python",
   "nbconvert_exporter": "python",
   "pygments_lexer": "ipython3",
   "version": "3.10.9"
  }
 },
 "nbformat": 4,
 "nbformat_minor": 5
}
