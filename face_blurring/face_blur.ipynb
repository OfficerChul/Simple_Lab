{
 "cells": [
  {
   "cell_type": "markdown",
   "source": [
    "# Library Import"
   ],
   "metadata": {
    "collapsed": false
   }
  },
  {
   "cell_type": "code",
   "execution_count": null,
   "outputs": [],
   "source": [
    "from mtcnn import MTCNN\n",
    "import cv2\n",
    "import time\n",
    "import os\n",
    "from datetime import timedelta"
   ],
   "metadata": {
    "collapsed": false,
    "pycharm": {
     "is_executing": true
    }
   }
  },
  {
   "cell_type": "markdown",
   "source": [
    "# MTCNN on Image"
   ],
   "metadata": {
    "collapsed": false
   }
  },
  {
   "cell_type": "code",
   "execution_count": null,
   "outputs": [],
   "source": [
    "detector = MTCNN()\n",
    "\n",
    "img = cv2.imread('./img.jpg')\n",
    "detections = detector.detect_faces(img)\n",
    "\n",
    "for detection in detections:\n",
    "    score = detection[\"confidence\"]\n",
    "    if score > 0.90:\n",
    "        x, y, w, h = detection[\"box\"]\n",
    "        detected_face = img[int(y):int(y + h), int(x):int(x + w)]\n",
    "        roi = img[y:y + h, x:x + w]\n",
    "\n",
    "        # apply gaussian blur to face rectangle\n",
    "        roi = cv2.GaussianBlur(roi, (17, 17), 100)\n",
    "\n",
    "        img[y:y + roi.shape[0], x:x + roi.shape[1]] = roi\n",
    "\n",
    "cv2.imwrite('img.jpg', img)\n"
   ],
   "metadata": {
    "collapsed": false,
    "pycharm": {
     "is_executing": true
    }
   }
  },
  {
   "cell_type": "markdown",
   "source": [
    "# MTCNN on Video"
   ],
   "metadata": {
    "collapsed": false
   }
  },
  {
   "cell_type": "code",
   "execution_count": null,
   "outputs": [],
   "source": [
    "tic = time.time()\n",
    "\n",
    "example_folder_path = os.path.join(os.getcwd(), 'example_vid')\n",
    "\n",
    "video_name = '20200901_120617.MOV'\n",
    "video_path = os.path.join(example_folder_path, video_name)\n",
    "print(video_path)\n",
    "cap = cv2.VideoCapture(video_path)\n",
    "fourcc = cv2.VideoWriter_fourcc(*'MJPG')\n",
    "\n",
    "fps = cap.get(cv2.CAP_PROP_FPS)\n",
    "new_vid_name = 'MC20200901_120617.MOV'\n",
    "out = cv2.VideoWriter(new_vid_name, fourcc, 30, (1920, 1080))\n",
    "\n",
    "orig_vid_size = os.stat(video_path).st_size\n",
    "total = int(cap.get(cv2.CAP_PROP_FRAME_COUNT))\n",
    "print(f'total frame: {total}')\n",
    "\n",
    "detector = MTCNN()\n",
    "\n",
    "count = 0\n",
    "while True:\n",
    "    tic2 = time.time()\n",
    "    ret, frame = cap.read()\n",
    "    if not ret:\n",
    "        break\n",
    "    count += 1\n",
    "    print(f'count: {count}/{total}')\n",
    "    frameRGB = cv2.cvtColor(frame, cv2.COLOR_BGR2RGB)\n",
    "    faces = MTCNN().detect_faces(frame)\n",
    "    for face in faces:\n",
    "        score = face['confidence']\n",
    "        if score > 0.9:\n",
    "            x, y, w, h = face['box']\n",
    "            roi = frame[y:y+h, x:x+w]\n",
    "            roi = cv2.GaussianBlur(roi, (17, 17), 100)\n",
    "            # cv2.rectangle(frame, (x, w), (y, h), (255, 255, 255), 10)\n",
    "            frame[y:y + roi.shape[0], x:x + roi.shape[1]] = roi\n",
    "\n",
    "            out.write(frame)\n",
    "    if cv2.waitKey(1) & 0xFF == ord('q'):\n",
    "        break\n",
    "    elapsed2 = time.time() - tic2\n",
    "    formatted_elapsed2 = str(timedelta(seconds=elapsed2))\n",
    "    print(f'count: {count}/{total}, elapsed time(%hh:%mm:%ss.xxx): {formatted_elapsed2}')\n",
    "\n",
    "elapsed = time.time() - tic\n",
    "formatted_elapsed = str(timedelta(seconds=elapsed))\n",
    "print(f'Total Elapsed Time(%hh:%mm:%ss.xxx): {formatted_elapsed}')\n",
    "print(f'The video size decreased from {orig_vid_size} to {os.stat(new_vid_name).st_size}')"
   ],
   "metadata": {
    "collapsed": false,
    "pycharm": {
     "is_executing": true
    }
   }
  },
  {
   "cell_type": "code",
   "execution_count": null,
   "outputs": [],
   "source": [],
   "metadata": {
    "collapsed": false,
    "pycharm": {
     "is_executing": true
    }
   }
  }
 ],
 "metadata": {
  "kernelspec": {
   "display_name": "Python 3",
   "language": "python",
   "name": "python3"
  },
  "language_info": {
   "codemirror_mode": {
    "name": "ipython",
    "version": 2
   },
   "file_extension": ".py",
   "mimetype": "text/x-python",
   "name": "python",
   "nbconvert_exporter": "python",
   "pygments_lexer": "ipython2",
   "version": "2.7.6"
  }
 },
 "nbformat": 4,
 "nbformat_minor": 0
}
